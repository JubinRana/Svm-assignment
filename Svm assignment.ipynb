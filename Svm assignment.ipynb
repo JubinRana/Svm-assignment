{
 "cells": [
  {
   "cell_type": "code",
   "execution_count": 2,
   "id": "e16579a6-2aa8-402f-84f6-7f00d92eace4",
   "metadata": {},
   "outputs": [],
   "source": [
    "import numpy as np \n",
    "import pandas as pd\n",
    "import matplotlib.pyplot as plt\n",
    "import seaborn as sns\n",
    "\n",
    "\n",
    "import warnings\n",
    "warnings.filterwarnings(\"ignore\")"
   ]
  },
  {
   "cell_type": "code",
   "execution_count": 3,
   "id": "4694357e-1ab2-4b16-88ca-faa121bad5a6",
   "metadata": {},
   "outputs": [],
   "source": [
    "#1: What is a Support Vector Machine (SVM)?"
   ]
  },
  {
   "cell_type": "markdown",
   "id": "f8b6b4df-41f8-4555-b085-6acfc4d6af50",
   "metadata": {},
   "source": [
    "Support Vector Machine (SVM)\n",
    "A Support Vector Machine (SVM) is a supervised learning algorithm used for classification and regression tasks in machine learning. It works by finding the best possible boundary (called a hyperplane) that separates data points of different classes.\n",
    "\n",
    "Key Concepts of SVM:\n",
    "1. Hyperplane:\n",
    "\n",
    "- A decision boundary that separates different classes in the dataset.\n",
    "- In 2D space, it is a line; in 3D space, it is a plane; and in higher dimensions, it is a hyperplane.\n",
    "\n",
    "2. Support Vectors:\n",
    "\n",
    "- These are the data points closest to the hyperplane.\n",
    "- They determine the position and orientation of the hyperplane.\n",
    "\n",
    "3. Margin:\n",
    "\n",
    "- The distance between the hyperplane and the nearest support vectors.\n",
    "- SVM maximizes this margin to improve classification accuracy.\n",
    "\n",
    "4. Kernel Trick:\n",
    "\n",
    "- SVM can handle non-linearly separable data by transforming it into a higher dimension using functions called kernels (e.g., linear, polynomial, radial basis function (RBF)).\n",
    "\n",
    "Types of SVM:\n",
    "\n",
    "1. Linear SVM: Used when data is linearly separable.\n",
    "2. Non-Linear SVM: Used when data is not linearly separable, requiring kernel functions."
   ]
  },
  {
   "cell_type": "code",
   "execution_count": 6,
   "id": "a2c901d0-33f2-4a3b-a1bc-bbfbde6736c6",
   "metadata": {},
   "outputs": [],
   "source": [
    "#2. What is the difference between Hard Margin and Soft Margin SVM?"
   ]
  },
  {
   "cell_type": "markdown",
   "id": "6d680500-f1a7-43d1-9f57-1eba77a0d2aa",
   "metadata": {},
   "source": [
    "Support Vector Machine (SVM) can be classified into Hard Margin SVM and Soft Margin SVM, based on how strictly it separates the data.\n",
    "\n",
    "1. Hard Margin SVM:\n",
    "\n",
    "- Used when the data is perfectly separable.\n",
    "- Finds the best hyperplane with the maximum possible margin.\n",
    "- Does not allow any misclassification, meaning all data points must be correctly classified.\n",
    "- Very sensitive to outliers, as even a small noise can make perfect separation impossible.\n",
    "\n",
    "2. Soft Margin SVM:\n",
    "\n",
    "- Used when the data is not perfectly separable.\n",
    "- Allows some misclassification to improve generalization and handle noisy data.\n",
    "- Introduces a regularization parameter (C) to balance margin size and misclassification.\n",
    "- More robust to outliers and works better in real-world scenarios."
   ]
  },
  {
   "cell_type": "code",
   "execution_count": 9,
   "id": "9587cfa7-eda9-45ab-9092-61830c5103e0",
   "metadata": {},
   "outputs": [],
   "source": [
    "#3. What is the mathematical intuition behind SVM?"
   ]
  },
  {
   "cell_type": "markdown",
   "id": "95e44137-9c8e-4c45-ae26-90ba4722e1b0",
   "metadata": {},
   "source": [
    "Support Vector Machine (SVM) aims to find the optimal hyperplane that best separates different classes while maximizing the margin between them.\n",
    "\n",
    "1) Equation of the Hyperplane\n",
    "\n",
    "A hyperplane in an n-dimensional space is represented as:\n",
    "\n",
    "w^T * x + b = 0\n",
    "\n",
    "where:\n",
    "\n",
    "w = weight vector (normal to the hyperplane)\n",
    "x = input feature vector\n",
    "b = bias term\n",
    "For classification, SVM ensures that:\n",
    "\n",
    "For positive class (+1): w^T * x_i + b ≥ 1\n",
    "For negative class (-1): w^T * x_i + b ≤ -1\n",
    "where y_i represents the class label (+1 or -1).\n",
    "\n",
    "2) Maximizing the Margin\n",
    "The margin is defined as:\n",
    "Margin = 2 / ||w||\n",
    "SVM maximizes this margin by solving the optimization problem:\n",
    "Minimize: (1/2) * ||w||²\n",
    "Subject to: y_i * (w^T * x_i + b) ≥ 1\n",
    "\n",
    "3) Soft Margin and Slack Variable (ξ_i)\n",
    "For non-linearly separable data, SVM introduces a slack variable ξ_i to allow misclassification:\n",
    "y_i * (w^T * x_i + b) ≥ 1 - ξ_i, ξ_i ≥ 0\n",
    "The new optimization function becomes:\n",
    "Minimize: (1/2) * ||w||² + C * Σ ξ_i\n",
    "where C is a regularization parameter controlling the trade-off between margin size and misclassification.\n",
    "\n",
    "4) Kernel Trick for Non-Linear Data\n",
    "For non-linearly separable data, SVM uses a kernel function K(x_i, x_j) to transform data into a higher-dimensional space:\n",
    "φ(x) = K(x_i, x_j)\n",
    "Common kernel functions:\n",
    "\n",
    "Linear Kernel: K(x_i, x_j) = x_i^T * x_j\n",
    "Polynomial Kernel: K(x_i, x_j) = (x_i^T * x_j + c)^d\n",
    "RBF Kernel: K(x_i, x_j) = exp(-γ ||x_i - x_j||²)\n",
    "Thus, SVM finds the best hyperplane in the transformed space to separate the data effectively."
   ]
  },
  {
   "cell_type": "code",
   "execution_count": 12,
   "id": "98c0a2d0-37c9-4124-903a-c109c0012619",
   "metadata": {},
   "outputs": [],
   "source": [
    "#4. What is the role of Lagrange Multipliers in SVM?"
   ]
  },
  {
   "cell_type": "markdown",
   "id": "6ff89496-bd85-4d09-a386-a918f78447a5",
   "metadata": {},
   "source": [
    "Lagrange multipliers help in solving the optimization problem of SVM by transforming it into a dual problem, making it easier to solve, especially for high-dimensional data.\n",
    "\n",
    "1) Primal Form of SVM Optimization\n",
    "\n",
    "SVM aims to maximize the margin by minimizing:\n",
    "Minimize: (1/2) * ||w||²\n",
    "Subject to: y_i * (w^T * x_i + b) ≥ 1\n",
    "\n",
    "This is a constrained optimization problem, which is difficult to solve directly.\n",
    "\n",
    "2) Introducing Lagrange Multipliers\n",
    "\n",
    "Using Lagrange multipliers (α_i), we convert the problem into an unconstrained optimization problem using the Lagrangian function:\n",
    "\n",
    "L(w, b, α) = (1/2) * ||w||² - Σ α_i [y_i * (w^T * x_i + b) - 1]\n",
    "\n",
    "where α_i ≥ 0 are Lagrange multipliers."
   ]
  },
  {
   "cell_type": "code",
   "execution_count": 15,
   "id": "fbbef565-ee69-4dde-bd61-2ee12d6944c7",
   "metadata": {},
   "outputs": [],
   "source": [
    "#5 What are Support Vectors in SVM?"
   ]
  },
  {
   "cell_type": "markdown",
   "id": "f7358dd4-53fe-44a5-a27f-ddcf23ef1ed2",
   "metadata": {},
   "source": [
    "Support Vectors are the data points closest to the decision boundary (hyperplane) in a Support Vector Machine (SVM). They play a crucial role in defining the optimal hyperplane and maximizing the margin between different classes.\n",
    "\n",
    "Key Properties of Support Vectors:\n",
    "\n",
    "- They lie on the margin boundary and influence the decision boundary.\n",
    "- They determine the hyperplane's position and orientation in the feature space.\n",
    "- Only these points affect the final model; other points do not contribute directly to the classification boundary.\n",
    "\n",
    "Mathematical Role of Support Vectors:\n",
    "\n",
    "For each support vector x_i, the decision function satisfies:\n",
    "y_i * (w^T * x_i + b) = 1\n",
    "\n",
    "In the dual form of SVM optimization, only support vectors have non-zero Lagrange multipliers (α_i > 0), meaning:\n",
    "\n",
    "If α_i > 0, the point is a support vector.\n",
    "If α_i = 0, the point does not affect the hyperplane."
   ]
  },
  {
   "cell_type": "code",
   "execution_count": 18,
   "id": "cace9e00-d305-4267-a219-7abf55083501",
   "metadata": {},
   "outputs": [],
   "source": [
    "#6 What is a Support Vector Classifier (SVC)?"
   ]
  },
  {
   "cell_type": "markdown",
   "id": "b4fedeeb-1e25-4963-8a48-5cb5e77c1c62",
   "metadata": {},
   "source": [
    "A Support Vector Classifier (SVC) is a classification algorithm based on Support Vector Machines (SVM). It finds the optimal hyperplane that separates different classes while allowing some misclassification to improve generalization.\n",
    "\n",
    "Key Features of SVC:\n",
    "\n",
    "1. Soft Margin SVM:\n",
    "\n",
    "- Allows some misclassification using a regularization parameter (C).\n",
    "- Controls the trade-off between margin size and misclassification errors.\n",
    "\n",
    "2. Decision Boundary:\n",
    "\n",
    "- Finds a hyperplane that maximizes the margin between classes.\n",
    "- Uses support vectors (data points closest to the hyperplane) to define the boundary.\n",
    "\n",
    "3. Kernel Trick:\n",
    "\n",
    "- Uses kernels (e.g., linear, polynomial, RBF) to handle non-linear data."
   ]
  },
  {
   "cell_type": "code",
   "execution_count": 21,
   "id": "aea21a20-4871-4584-acd4-6be45557cfa4",
   "metadata": {},
   "outputs": [],
   "source": [
    "#7 What is a Support Vector Regressor (SVR)?"
   ]
  },
  {
   "cell_type": "markdown",
   "id": "78ccec35-36c9-4081-8a41-e61ba8ea3ccf",
   "metadata": {},
   "source": [
    "A Support Vector Regressor (SVR) is an extension of Support Vector Machines (SVM) for regression tasks. Instead of finding a hyperplane that separates classes, SVR finds a function that predicts continuous values while minimizing errors within a margin.\n",
    "\n",
    "SVR tries to fit a function f(x) that predicts y while allowing some flexibility using ε-insensitive loss. The optimization problem is:\n",
    "\n",
    "Minimize: (1/2) * ||w||^2\n",
    "\n",
    "Subject to: | y_i - (w^T * x_i + b) | ≤ ε\n",
    "\n",
    "where:\n",
    "\n",
    "- w represents the model weights.\n",
    "- ε (epsilon) defines a margin where errors are ignored.\n",
    "- Slack variables ξ, ξ* allow some violations beyond ε for better generalization.\n",
    "\n",
    "Key Features of SVR\n",
    "- Uses an ε-insensitive loss function, meaning it only penalizes predictions outside the ε margin.\n",
    "- Supports different kernels to handle non-linear regression using RBF, polynomial, and linear kernels.\n",
    "- The C parameter controls model complexity → Large C reduces error but risks overfitting.\n",
    "- The γ (gamma) parameter in the RBF kernel affects flexibility → Higher γ makes the model more sensitive to small variations.\n",
    "\n",
    "Types of SVR Kernels\n",
    "\n",
    "- Linear SVR → Best for simple relationships.\n",
    "- Polynomial SVR → Captures polynomial trends.\n",
    "- RBF SVR → Works well for complex, non-linear data.\n",
    "\n",
    "Applications of SVR\n",
    "Stock price prediction\n",
    "House price estimation\n",
    "Weather forecasting\n",
    "Energy consumption modeling\n",
    "\n",
    "Thus, SVR is a powerful regression model that balances flexibility and generalization, making it useful for both simple and complex datasets."
   ]
  },
  {
   "cell_type": "code",
   "execution_count": 24,
   "id": "3b31be8c-d17d-4738-9c70-c59b07b24a0d",
   "metadata": {},
   "outputs": [],
   "source": [
    "#8 What is the Kernel Trick in SVM?"
   ]
  },
  {
   "cell_type": "markdown",
   "id": "2195c333-bc2e-4b05-8020-69880ea16ade",
   "metadata": {},
   "source": [
    "The Kernel Trick is a technique used in Support Vector Machines (SVM) to handle non-linearly separable data by transforming it into a higher-dimensional space where it becomes linearly separable.\n",
    "\n",
    "Instead of working directly in the original feature space, SVM uses a kernel function K(x_i, x_j) to compute the dot product in a higher-dimensional space without explicitly transforming the data. Mathematically, this is represented as:\n",
    "\n",
    "K(x_i, x_j) = φ(x_i) ⋅ φ(x_j)\n",
    "\n",
    "where φ(x) is a transformation function that maps the data into a higher-dimensional space. This allows SVM to find a linear decision boundary in the transformed space while keeping computations efficient.\n",
    "\n",
    "Some commonly used kernel functions are:\n",
    "\n",
    "Linear Kernel:\n",
    "K(x_i, x_j) = x_i^T * x_j\n",
    "\n",
    "Polynomial Kernel:\n",
    "K(x_i, x_j) = (x_i^T * x_j + c)^d\n",
    "\n",
    "Radial Basis Function (RBF) Kernel:\n",
    "K(x_i, x_j) = exp(-γ * ||x_i - x_j||^2)\n",
    "\n",
    "Sigmoid Kernel:\n",
    "K(x_i, x_j) = tanh(β * x_i^T * x_j + c)"
   ]
  },
  {
   "cell_type": "code",
   "execution_count": 27,
   "id": "c351adcf-0720-4e16-956e-5f1ad451bd65",
   "metadata": {},
   "outputs": [],
   "source": [
    "#9 Compare Linear Kernel, Polynomial Kernel, and RBF Kernel?"
   ]
  },
  {
   "cell_type": "markdown",
   "id": "753dd77d-0a63-4add-b38a-244331e31390",
   "metadata": {},
   "source": [
    "The choice of a kernel function in Support Vector Machines (SVM) affects the decision boundary and model performance. Here’s a comparison of the Linear Kernel, Polynomial Kernel, and Radial Basis Function (RBF) Kernel:\n",
    "\n",
    "1) Linear Kernel\n",
    "Formula:\n",
    "K(x_i, x_j) = x_i^T * x_j\n",
    "\n",
    "Characteristics:\n",
    "\n",
    "- Suitable for linearly separable data.\n",
    "- Works well when the number of features is large compared to the number of samples.\n",
    "- Computationally efficient and requires fewer parameters.\n",
    "\n",
    "When to Use?\n",
    "\n",
    "- When data is linearly separable or nearly so.\n",
    "- When interpretability is important (e.g., text classification).\n",
    "\n",
    "2) Polynomial Kernel\n",
    "Formula:\n",
    "K(x_i, x_j) = (x_i^T * x_j + c)^d\n",
    "\n",
    "Characteristics:\n",
    "\n",
    "- Maps data into a higher-degree polynomial feature space.\n",
    "- Degree (d) controls complexity; higher values lead to more complex decision boundaries.\n",
    "- Can fit curved relationships but may cause overfitting for high-degree values.\n",
    "\n",
    "When to Use?\n",
    "\n",
    "- When data has mildly non-linear patterns.\n",
    "- When a balance between complexity and interpretability is needed.\n",
    "\n",
    "3) Radial Basis Function (RBF) Kernel\n",
    "Formula:\n",
    "K(x_i, x_j) = exp(-γ * ||x_i - x_j||^2)\n",
    "\n",
    "Characteristics:\n",
    "\n",
    "- Maps data into an infinite-dimensional feature space.\n",
    "- γ (gamma) controls how far the influence of a sample extends; high values lead to tighter decision boundaries.\n",
    "- Handles complex, highly non-linear data but may require tuning γ and C for best results.\n",
    "\n",
    "When to Use?\n",
    "\n",
    "- When data is highly non-linear and complex.\n",
    "- When the decision boundary cannot be represented by polynomials."
   ]
  },
  {
   "cell_type": "code",
   "execution_count": 30,
   "id": "9717014e-4009-40a9-8a30-018a95439b4a",
   "metadata": {},
   "outputs": [],
   "source": [
    "#10 What is the effect of the C parameter in SVM?"
   ]
  },
  {
   "cell_type": "markdown",
   "id": "76145108-24cf-4389-93d7-2c12c7eb6a76",
   "metadata": {},
   "source": [
    "The C parameter in Support Vector Machines (SVM) controls the trade-off between maximizing the margin and minimizing classification errors. A small C allows a larger margin with some misclassifications, while a large C forces the model to classify all training points correctly, leading to a smaller margin.\n",
    "\n",
    "The SVM optimization function is:\n",
    "\n",
    "Minimize: (1/2) * ||w||^2 + C * Σ ξ_i\n",
    "\n",
    "Where:\n",
    "\n",
    "- ||w||^2 represents the margin size (smaller w means a larger margin).\n",
    "- ξ_i are slack variables allowing misclassification.\n",
    "- C controls the penalty for misclassified points.\n",
    "- Effect of Different C Values\n",
    "\n",
    "1. Small C (Low Regularization):\n",
    "\n",
    "- Allows a larger margin but more misclassifications.\n",
    "- Focuses on better generalization instead of perfect training accuracy.\n",
    "- Works well for noisy datasets where some misclassification is acceptable.\n",
    "\n",
    "2. Large C (High Regularization):\n",
    "\n",
    "- Forces correct classification of training points, leading to a smaller margin.\n",
    "- Reduces misclassification but increases overfitting.\n",
    "- Works well when misclassifications are costly (e.g., medical diagnosis).\n",
    "\n",
    "Choosing the Right C Value\n",
    "C too small → Underfitting (model too simple, ignores patterns).\n",
    "C too large → Overfitting (memorizes training data, poor generalization).\n",
    "Best C is found using cross-validation to balance accuracy and generalization.\n",
    "Thus, C acts as a balancing factor between a simple model with a large margin and a complex model that fits training data well."
   ]
  },
  {
   "cell_type": "code",
   "execution_count": 33,
   "id": "fd9e51a1-8582-42dc-b425-ab7804d81b88",
   "metadata": {},
   "outputs": [],
   "source": [
    "#11 What is the role of the Gamma parameter in RBF Kernel SVM?"
   ]
  },
  {
   "cell_type": "markdown",
   "id": "76f4e3a3-be45-41fc-a92b-23a75033ce2b",
   "metadata": {},
   "source": [
    "The Gamma (γ) parameter in the Radial Basis Function (RBF) Kernel of Support Vector Machines (SVM) controls how much influence a single training example has on the decision boundary. It determines the spread of the Gaussian function used in the kernel.\n",
    "\n",
    "Mathematical Definition\n",
    "The RBF kernel is defined as:\n",
    "\n",
    "K(x_i, x_j) = exp(-γ * ||x_i - x_j||²)\n",
    "\n",
    "where:\n",
    "\n",
    "- γ (gamma) controls the range of influence of each training point.\n",
    "- ||x_i - x_j||² is the squared Euclidean distance between data points.\n",
    "\n",
    "Effect of Different Gamma Values\n",
    "1. Small γ (Low Gamma):\n",
    "\n",
    "- The Gaussian curve is wide, meaning each training point has a large influence.\n",
    "- The model is less sensitive to individual points, leading to a smoother decision boundary.\n",
    "- Works well for simpler, general patterns but may cause underfitting.\n",
    "\n",
    "2. Large γ (High Gamma):\n",
    "\n",
    "- The Gaussian curve is narrow, meaning each point has a small influence.\n",
    "- The model captures fine details, leading to a highly flexible decision boundary.\n",
    "- Can cause overfitting, making the model too sensitive to noise.\n",
    "\n",
    "Choosing the Right Gamma Value\n",
    "\n",
    "- A small γ results in a simple, generalized model.\n",
    "- A large γ leads to a complex, highly flexible model that may overfit.\n",
    "- Optimal γ is found using cross-validation to balance accuracy and generalization.\n",
    "Thus, gamma controls how much influence a training point has, affecting the model’s complexity and ability to generalize."
   ]
  },
  {
   "cell_type": "code",
   "execution_count": 36,
   "id": "c2cc73ed-09c3-43f1-977d-198ba82f7ee6",
   "metadata": {},
   "outputs": [],
   "source": [
    "#12  What is the Naïve Bayes classifier, and why is it called \"Naïve\"?\n"
   ]
  },
  {
   "cell_type": "markdown",
   "id": "33b1e43e-4277-41ca-a94d-7aa5ae93ff0d",
   "metadata": {},
   "source": [
    "The Naïve Bayes classifier is a probabilistic machine learning algorithm based on Bayes' Theorem. It is used for classification tasks and assumes that the features are independent given the class label.\n",
    "\n",
    "Bayes' Theorem:\n",
    "\n",
    "The classifier is based on the following formula:\n",
    "\n",
    "P(Y | X) = ( P(X | Y) * P(Y) ) / P(X)\n",
    "\n",
    "where:\n",
    "\n",
    "- P(Y | X) is the probability of class Y given input X (posterior probability).\n",
    "- P(X | Y) is the probability of input X given class Y (likelihood).\n",
    "- P(Y) is the probability of class Y (prior probability).\n",
    "- P(X) is the probability of input X (evidence).\n",
    "\n",
    "Why Is It Called \"Naïve\"?\n",
    "\n",
    "The model is called \"Naïve\" because it assumes that all features are independent of each other, which is rarely true in real-world data. This simplifies computations but is an unrealistic assumption in many cases.\n",
    "\n",
    "Advantages of Naïve Bayes\n",
    "\n",
    "✔ Fast and efficient for large datasets.\n",
    "✔ Works well with text classification (e.g., spam detection, sentiment analysis).\n",
    "✔ Performs well even with small datasets.\n",
    "\n",
    "Limitations\n",
    "\n",
    "✖ The independence assumption is often unrealistic.\n",
    "✖ Struggles with correlated features."
   ]
  },
  {
   "cell_type": "code",
   "execution_count": 39,
   "id": "2fdfee15-209a-4f15-b040-77cf477e127e",
   "metadata": {},
   "outputs": [],
   "source": [
    "#13 What is Bayes’ Theorem?"
   ]
  },
  {
   "cell_type": "markdown",
   "id": "11e63b72-c0d0-487e-aacd-9f6d1731c326",
   "metadata": {},
   "source": [
    "Bayes' Theorem is a fundamental concept in probability theory that describes how to update the probability of an event based on new evidence. It is widely used in machine learning, statistics, and decision-making.\n",
    "\n",
    "Mathematical Formula\n",
    "P(A | B) = ( P(B | A) * P(A) ) / P(B)\n",
    "\n",
    "where:\n",
    "\n",
    "- P(A | B) → Probability of event A occurring given that B has occurred (posterior probability).\n",
    "- P(B | A) → Probability of event B occurring given that A has occurred (likelihood).\n",
    "- P(A) → Probability of event A occurring (prior probability).\n",
    "- P(B) → Probability of event B occurring (evidence).\n",
    "\n",
    "Explanation\n",
    "\n",
    "Bayes' Theorem helps in updating probabilities when new evidence is introduced. It is particularly useful in classification problems, medical diagnosis, spam detection, and machine learning models like Naïve Bayes.\n",
    "\n",
    "Example\n",
    "Suppose a disease affects 1% of a population and a test is 90% accurate. If a person tests positive, Bayes' Theorem can calculate the actual probability that they have the disease, considering the test's false positives and false negatives.\n",
    "\n",
    "Thus, Bayes' Theorem provides a structured way to update probabilities based on new information."
   ]
  },
  {
   "cell_type": "code",
   "execution_count": 42,
   "id": "5821870d-1f0e-41d6-b24e-6ec1ee6a396d",
   "metadata": {},
   "outputs": [],
   "source": [
    "#14 Explain the differences between Gaussian Naïve Bayes, Multinomial Naïve Bayes, and Bernoulli Naïve Bayes?"
   ]
  },
  {
   "cell_type": "markdown",
   "id": "c460e33e-04a5-4c52-b12a-70ad7d16ce0b",
   "metadata": {},
   "source": [
    "1) Gaussian Naïve Bayes (GNB)\n",
    "\n",
    "✔ Used when features are continuous and assumed to follow a Gaussian (Normal) distribution.\n",
    "\n",
    "✔ Each feature is modeled using a mean (μ) and variance (σ²).\n",
    "\n",
    "✔ Probability of a feature x given class C is calculated as:\n",
    "\n",
    "P(x | C) = (1 / (√(2 * π * σ²))) * exp( - ( (x - μ)² / (2 * σ²) ) )\n",
    "\n",
    "✔ Suitable for numerical data like age, height, weight, temperature.\n",
    "\n",
    "Example Use Case: Iris flower classification, weather prediction.\n",
    "\n",
    "2) Multinomial Naïve Bayes (MNB)\n",
    "   \n",
    "✔ Used for discrete data where features represent counts or frequencies of events.\n",
    "\n",
    "✔ Probability is based on word frequencies in text classification tasks.\n",
    "\n",
    "✔ The likelihood is computed as:\n",
    "\n",
    "P(x | C) = ( (x_i + α) / (Σ x + α * N) )\n",
    "\n",
    "\n",
    "✔ Works well for text classification and document categorization (e.g., spam detection).\n",
    "\n",
    "Example Use Case: Text classification, sentiment analysis.\n",
    "\n",
    "3) Bernoulli Naïve Bayes (BNB)\n",
    "\n",
    "✔ Used for binary (0/1) feature data, where features indicate presence (1) or absence (0) of an attribute.\n",
    "\n",
    "✔ Unlike Multinomial NB, it considers only binary features rather than frequency counts.\n",
    "\n",
    "✔ The probability function is:\n",
    "\n",
    "P(x | C) = p^x * (1 - p)^(1 - x)\n",
    "\n",
    "\n",
    "✔ Works well for text data represented as binary feature vectors (e.g., word occurrence instead of word count).\n",
    "\n",
    "Example Use Case: Spam detection, sentiment analysis using binary word presence."
   ]
  },
  {
   "cell_type": "code",
   "execution_count": 45,
   "id": "df3a21cb-b09d-4596-b817-ed5c1ce67a05",
   "metadata": {},
   "outputs": [],
   "source": [
    "#15 When should you use Gaussian Naïve Bayes over other variants?"
   ]
  },
  {
   "cell_type": "markdown",
   "id": "3ea4e127-beb1-400b-9b4d-d5b0cb3969d6",
   "metadata": {},
   "source": [
    "When to Use Gaussian Naïve Bayes Over Other Variants\n",
    "\n",
    "Gaussian Naïve Bayes (GNB) should be used when the features are continuous and follow a normal (Gaussian) distribution. It assumes that each feature is normally distributed within each class.\n",
    "\n",
    "Situations Where GNB is Preferred\n",
    "\n",
    "✔ Numerical Data: When the dataset contains continuous values like height, weight, temperature, age, blood pressure, etc., GNB is the best choice.\n",
    "\n",
    "✔ Assumption of Normality Holds: If the feature distributions appear bell-shaped (Gaussian), GNB will perform well.\n",
    "\n",
    "✔ Small Datasets: GNB works efficiently with limited data because it only requires estimating the mean (μ) and variance (σ²) for each class.\n",
    "\n",
    "✔ Fast and Scalable: It is computationally efficient and scales well for real-time applications.\n",
    "\n",
    "Example Use Cases\n",
    "\n",
    "Medical Diagnosis → Predicting diseases based on patient parameters like blood pressure and cholesterol levels.\n",
    "\n",
    "Iris Flower Classification → Using petal and sepal lengths (continuous variables) to classify flower species.\n",
    "\n",
    "Weather Prediction → Classifying whether it will rain based on temperature and humidity.\n",
    "\n",
    "Anomaly Detection → Detecting fraudulent transactions by modeling normal behavior with Gaussian distributions."
   ]
  },
  {
   "cell_type": "code",
   "execution_count": 48,
   "id": "c85470a5-2121-4be5-b088-96b4c9f32ff4",
   "metadata": {},
   "outputs": [],
   "source": [
    "#16 What are the key assumptions made by Naïve Bayes?"
   ]
  },
  {
   "cell_type": "markdown",
   "id": "ce672238-e81a-4919-bcea-53d92995d214",
   "metadata": {},
   "source": [
    "The Naïve Bayes classifier makes several key assumptions to simplify probability calculations and enable efficient classification.\n",
    "\n",
    "1. Feature Independence Assumption\n",
    "\n",
    "Naïve Bayes assumes that all features are independent of each other given the class label.\n",
    "\n",
    "Mathematically, for a set of features x₁, x₂, ..., xₙ, the probability of class C is:\n",
    "\n",
    "P(C | x₁, x₂, ..., xₙ) ∝ P(C) * P(x₁ | C) * P(x₂ | C) * ... * P(xₙ | C)\n",
    "\n",
    "In reality, features are often correlated, but Naïve Bayes still performs well in many cases.\n",
    "\n",
    "2. Class Conditional Independence\n",
    "\n",
    "Each feature is independent within a given class.\n",
    "\n",
    "Example: In spam detection, Naïve Bayes assumes that the occurrence of words like \"offer\" and \"discount\" in an email is independent given that the email is spam.\n",
    "\n",
    "3. Equal Importance of Features\n",
    "\n",
    "- Naïve Bayes assumes that all features contribute equally to the classification decision.\n",
    "- In real-world problems, some features might be more important than others, but Naïve Bayes does not account for this.\n",
    "\n",
    "4. Data Follows a Specific Distribution\n",
    "\n",
    "Different versions of Naïve Bayes assume different data distributions:\n",
    "\n",
    "- Gaussian Naïve Bayes (GNB) assumes a normal distribution for continuous features.\n",
    "- Multinomial Naïve Bayes (MNB) assumes a multinomial distribution for word counts.\n",
    "- Bernoulli Naïve Bayes (BNB) assumes binary features (presence/absence of words).\n",
    "\n",
    "Implications of These Assumptions\n",
    "\n",
    "✔ Simplifies computation, making Naïve Bayes fast and efficient.\n",
    "\n",
    "✔ Works well even if the independence assumption is not perfectly true.\n",
    "\n",
    "✖ May perform poorly if features are highly correlated.\n",
    "\n",
    "Thus, Naïve Bayes is a simple yet powerful classifier, but its performance depends on how well the data satisfies these assumptions."
   ]
  },
  {
   "cell_type": "code",
   "execution_count": 51,
   "id": "804f9747-9756-42c1-ba0a-a5268f75f337",
   "metadata": {},
   "outputs": [],
   "source": [
    "#17 What are the advantages and disadvantages of Naïve Bayes?"
   ]
  },
  {
   "cell_type": "markdown",
   "id": "cf400bbc-181f-4da3-ac86-a1e27e60a8e7",
   "metadata": {},
   "source": [
    "Advantages\n",
    "\n",
    "✔ Fast and Efficient → Naïve Bayes is computationally efficient, even for large datasets, since it requires only simple probability calculations.\n",
    "\n",
    "✔ Works Well with Small Data → Performs well even when there is limited training data.\n",
    "\n",
    "✔ Handles High-Dimensional Data → Suitable for applications like text classification and spam filtering where there are many features.\n",
    "\n",
    "✔ Performs Well Even with Violated Independence Assumption → Despite assuming feature independence, it often gives good results in real-world applications.\n",
    "\n",
    "✔ Works Well for Text Classification → Frequently used in spam detection, sentiment analysis, and document categorization.\n",
    "\n",
    "✔ Can Handle Missing Data → Since probabilities are calculated independently for each feature, missing values do not affect performance significantly.\n",
    "\n",
    "Disadvantages\n",
    "\n",
    "✖ Strong Independence Assumption → Naïve Bayes assumes that features are independent, which is rarely true in real-world data.\n",
    "\n",
    "✖ Poor Performance with Correlated Features → If features are highly dependent, Naïve Bayes does not model these dependencies well.\n",
    "\n",
    "✖ Not Suitable for Complex Relationships → It does not capture interactions between features like decision trees or deep learning models do.\n",
    "\n",
    "✖ Zero Probability Problem → If a feature value does not appear in the training data for a certain class, it assigns a probability of zero, which can be problematic. This is handled using Laplace smoothing.\n",
    "\n",
    "✖ Less Interpretable than Decision Trees → While Naïve Bayes is simple, it does not provide clear insights into how each feature contributes to the final decision."
   ]
  },
  {
   "cell_type": "code",
   "execution_count": 54,
   "id": "fd2d9df6-2f37-4f25-bb65-9beca803baad",
   "metadata": {},
   "outputs": [],
   "source": [
    "#18 Why is Naïve Bayes a good choice for text classification?"
   ]
  },
  {
   "cell_type": "markdown",
   "id": "6d8efb8c-64f7-49c9-afb5-eefff0f28556",
   "metadata": {},
   "source": [
    "Naïve Bayes is widely used for text classification because of its speed, efficiency, and ability to handle high-dimensional data.\n",
    "\n",
    "Key Reasons\n",
    "\n",
    "✔ Works Well with High-Dimensional Data → Text data has thousands of features (words), and Naïve Bayes efficiently handles large vocabularies.\n",
    "\n",
    "✔ Fast and Scalable → Since it only requires counting word occurrences and applying probability formulas, it is computationally efficient even on large datasets.\n",
    "\n",
    "✔ Performs Well with Small Data → Works effectively even with limited training examples, making it useful for scenarios where labeled data is scarce.\n",
    "\n",
    "✔ Robust to Irrelevant Features → Naïve Bayes classifies based on probabilities, so it can handle noisy or less relevant words without much impact.\n",
    "\n",
    "✔ Handles Class Imbalances Well → Since it is based on probability estimates, it can effectively classify even if some classes have fewer training examples.\n",
    "\n",
    "✔ Works Well Even if Feature Independence is Not Fully True → While it assumes words appear independently in a document, it still performs well in practice."
   ]
  },
  {
   "cell_type": "code",
   "execution_count": 57,
   "id": "b7f0480e-6884-471b-910a-d741128a846c",
   "metadata": {},
   "outputs": [],
   "source": [
    "#19 Compare SVM and Naïve Bayes for classification tasks?"
   ]
  },
  {
   "cell_type": "markdown",
   "id": "8fe6b5ee-70fd-47ea-8aee-2432b50788bb",
   "metadata": {},
   "source": [
    "Support Vector Machine (SVM) and Naïve Bayes (NB) are both popular classification algorithms, but they differ significantly in their approach, performance, and use cases.\n",
    "\n",
    "1) Working Principle\n",
    "\n",
    "- SVM → Finds the optimal hyperplane that maximizes the margin between classes.\n",
    "- Naïve Bayes → Uses Bayes’ Theorem to calculate the probability of each class and assigns the class with the highest probability.\n",
    "\n",
    "2) Assumptions\n",
    "\n",
    "SVM → Makes no strict assumptions about the data distribution.\n",
    "Naïve Bayes → Assumes feature independence and specific probability distributions (Gaussian, Multinomial, Bernoulli).\n",
    "\n",
    "3) Speed and Complexity\n",
    "\n",
    "SVM → Computationally expensive, especially for large datasets; training time increases with data size.\n",
    "Naïve Bayes → Very fast training and prediction since it only requires counting feature occurrences.\n",
    "\n",
    "4) Interpretability\n",
    "\n",
    "SVM → Harder to interpret because of complex decision boundaries.\n",
    "Naïve Bayes → Easy to interpret as it provides direct probabilities for classification.\n"
   ]
  },
  {
   "cell_type": "code",
   "execution_count": 60,
   "id": "9b42d4b1-937d-4ed2-b97d-f34bb95277d9",
   "metadata": {},
   "outputs": [],
   "source": [
    "#20 How does Laplace Smoothing help in Naïve Bayes?"
   ]
  },
  {
   "cell_type": "markdown",
   "id": "d60a757e-b83a-49dd-b784-a74e5d396cfa",
   "metadata": {},
   "source": [
    "Problem: Zero Probability Issue\n",
    "In Naïve Bayes, probabilities are calculated based on how often a feature appears in each class. If a feature never appears in the training data for a certain class, its probability becomes zero. Since Naïve Bayes multiplies probabilities, this eliminates the entire class from consideration, which can lead to poor predictions.\n",
    "\n",
    "Solution: Laplace Smoothing (Add-1 Smoothing)\n",
    "\n",
    "To fix this, Laplace Smoothing adds a small constant (usually 1) to all feature counts. This ensures that no probability is zero, even if a word or feature is missing in training.\n",
    "\n",
    "Without smoothing, the probability of a word w given a class C is:\n",
    "\n",
    "P(w | C) = (count(w, C)) / (total words in C)\n",
    "\n",
    "With Laplace Smoothing, it becomes:\n",
    "\n",
    "P(w | C) = (count(w, C) + 1) / (total words in C + V)\n",
    "\n",
    "where V is the vocabulary size (total unique words in the dataset).\n",
    "\n",
    "Benefits of Laplace Smoothing\n",
    "✔ Prevents Zero Probability → Ensures all words/features have a small probability, avoiding class elimination.\n",
    "✔ Handles Rare or Unseen Words → Useful in text classification where test data may have words missing in training.\n",
    "✔ Improves Model Stability → Reduces overconfidence in frequent words and makes the model more reliable.\n",
    "\n",
    "Thus, Laplace Smoothing is essential in Naïve Bayes for handling zero probabilities and ensuring better classification performance."
   ]
  },
  {
   "cell_type": "code",
   "execution_count": 63,
   "id": "364adb75-76db-41ec-ae5b-8a242e00512c",
   "metadata": {},
   "outputs": [],
   "source": [
    "#21 Write a Python program to train an SVM Classifier on the Iris dataset and evaluate accuracy?"
   ]
  },
  {
   "cell_type": "code",
   "execution_count": 65,
   "id": "6504eced-6221-498b-a170-2246421baa35",
   "metadata": {},
   "outputs": [
    {
     "name": "stdout",
     "output_type": "stream",
     "text": [
      "SVM Classifier Accuracy: 1.00\n"
     ]
    }
   ],
   "source": [
    "\n",
    "from sklearn.datasets import load_iris\n",
    "\n",
    "iris = load_iris()\n",
    "X = iris.data \n",
    "y = iris.target \n",
    "\n",
    "from sklearn.model_selection import train_test_split\n",
    "X_train, X_test, y_train, y_test = train_test_split(X, y, test_size=0.2, random_state=42)\n",
    "\n",
    "from sklearn.preprocessing import StandardScaler\n",
    "scaler = StandardScaler()\n",
    "X_train = scaler.fit_transform(X_train)\n",
    "X_test = scaler.transform(X_test)\n",
    "\n",
    "from sklearn.svm import SVC\n",
    "svm_model = SVC(kernel='rbf', C=1.0, gamma='scale', random_state=42)\n",
    "svm_model.fit(X_train, y_train)\n",
    "\n",
    "\n",
    "y_pred = svm_model.predict(X_test)\n",
    "\n",
    "from sklearn.metrics import accuracy_score\n",
    "accuracy = accuracy_score(y_test, y_pred)\n",
    "print(f\"SVM Classifier Accuracy: {accuracy:.2f}\")\n"
   ]
  },
  {
   "cell_type": "code",
   "execution_count": 67,
   "id": "7cd01fd3-b864-4f59-ae39-29e9e0d57c26",
   "metadata": {},
   "outputs": [],
   "source": [
    "#22 Write a Python program to train two SVM classifiers with Linear and RBF kernels on the Wine dataset, then compare their accuracies?\n"
   ]
  },
  {
   "cell_type": "code",
   "execution_count": 69,
   "id": "ad994389-5d55-4f8a-9ea6-532c7dfbabcd",
   "metadata": {},
   "outputs": [
    {
     "name": "stdout",
     "output_type": "stream",
     "text": [
      "SVM with Linear Kernel Accuracy: 0.97\n",
      "SVM with RBF Kernel Accuracy: 1.00\n",
      "RBF Kernel performed better.\n"
     ]
    }
   ],
   "source": [
    "\n",
    "from sklearn.datasets import load_wine\n",
    "\n",
    "\n",
    "wine = load_wine()\n",
    "X = wine.data \n",
    "y = wine.target \n",
    "\n",
    "from sklearn.model_selection import train_test_split\n",
    "X_train, X_test, y_train, y_test = train_test_split(X, y, test_size=0.2, random_state=42)\n",
    "\n",
    "from sklearn.preprocessing import StandardScaler\n",
    "scaler = StandardScaler()\n",
    "X_train = scaler.fit_transform(X_train)\n",
    "X_test = scaler.transform(X_test)\n",
    "\n",
    "from sklearn.svm import SVC\n",
    "svm_linear = SVC(kernel='linear', C=1.0, random_state=42)\n",
    "svm_linear.fit(X_train, y_train)\n",
    "\n",
    "svm_rbf = SVC(kernel='rbf', C=1.0, gamma='scale', random_state=42)\n",
    "svm_rbf.fit(X_train, y_train)\n",
    "\n",
    "\n",
    "y_pred_linear = svm_linear.predict(X_test)\n",
    "y_pred_rbf = svm_rbf.predict(X_test)\n",
    "\n",
    "from sklearn.metrics import accuracy_score\n",
    "accuracy_linear = accuracy_score(y_test, y_pred_linear)\n",
    "accuracy_rbf = accuracy_score(y_test, y_pred_rbf)\n",
    "\n",
    "print(f\"SVM with Linear Kernel Accuracy: {accuracy_linear:.2f}\")\n",
    "print(f\"SVM with RBF Kernel Accuracy: {accuracy_rbf:.2f}\")\n",
    "\n",
    "\n",
    "if accuracy_linear > accuracy_rbf:\n",
    "    print(\"Linear Kernel performed better.\")\n",
    "elif accuracy_rbf > accuracy_linear:\n",
    "    print(\"RBF Kernel performed better.\")\n",
    "else:\n",
    "    print(\"Both kernels performed equally well.\")\n"
   ]
  },
  {
   "cell_type": "code",
   "execution_count": 71,
   "id": "2f23f04f-59ed-49a9-ba86-ecd3b8844a5b",
   "metadata": {},
   "outputs": [],
   "source": [
    "#23 Write a Python program to train an SVM Regressor (SVR) on a housing dataset and evaluate it using Mean Squared Error (MSE)?\n"
   ]
  },
  {
   "cell_type": "code",
   "execution_count": 73,
   "id": "9748fac2-293c-4b53-928c-fad008b9d18d",
   "metadata": {},
   "outputs": [
    {
     "name": "stdout",
     "output_type": "stream",
     "text": [
      "SVR Model Mean Squared Error: 0.3201\n"
     ]
    }
   ],
   "source": [
    "from sklearn.datasets import fetch_california_housing\n",
    "\n",
    "housing = fetch_california_housing()\n",
    "X = housing.data  \n",
    "y = housing.target  \n",
    "\n",
    "from sklearn.model_selection import train_test_split\n",
    "X_train, X_test, y_train, y_test = train_test_split(X, y, test_size=0.2, random_state=42)\n",
    "\n",
    "from sklearn.preprocessing import StandardScaler\n",
    "scaler = StandardScaler()\n",
    "X_train = scaler.fit_transform(X_train)\n",
    "X_test = scaler.transform(X_test)\n",
    "\n",
    "from sklearn.svm import SVR\n",
    "svr_model = SVR(kernel='rbf', C=100, gamma='scale', epsilon=0.1)\n",
    "svr_model.fit(X_train, y_train)\n",
    "\n",
    "y_pred = svr_model.predict(X_test)\n",
    "\n",
    "from sklearn.metrics import mean_squared_error\n",
    "mse = mean_squared_error(y_test, y_pred)\n",
    "print(f\"SVR Model Mean Squared Error: {mse:.4f}\")\n"
   ]
  },
  {
   "cell_type": "code",
   "execution_count": 75,
   "id": "01878a67-68e8-44d8-b686-69342a689073",
   "metadata": {},
   "outputs": [],
   "source": [
    "#24 Write a Python program to train an SVM Classifier with a Polynomial Kernel and visualize the decision boundary:\n"
   ]
  },
  {
   "cell_type": "code",
   "execution_count": 77,
   "id": "332fb2dd-7dc1-4070-a226-8ad5ce54d53e",
   "metadata": {},
   "outputs": [
    {
     "data": {
      "image/png": "[encoded data removed]",
      "text/plain": [
       "<Figure size 640x480 with 1 Axes>"
      ]
     },
     "metadata": {},
     "output_type": "display_data"
    }
   ],
   "source": [
    "from sklearn.datasets import make_moons\n",
    "X, y = make_moons(n_samples=200, noise=0.2, random_state=42)\n",
    "\n",
    "from sklearn.model_selection import train_test_split\n",
    "X_train, X_test, y_train, y_test = train_test_split(X, y, test_size=0.2, random_state=42)\n",
    "\n",
    "\n",
    "from sklearn.preprocessing import StandardScaler\n",
    "scaler = StandardScaler()\n",
    "X_train = scaler.fit_transform(X_train)\n",
    "X_test = scaler.transform(X_test)\n",
    "\n",
    "\n",
    "from sklearn.svm import SVC\n",
    "svm_poly = SVC(kernel='poly', degree=3, C=1.0)\n",
    "svm_poly.fit(X_train, y_train)\n",
    "\n",
    "\n",
    "def plot_decision_boundary(model, X, y):\n",
    "    x_min, x_max = X[:, 0].min() - 1, X[:, 0].max() + 1\n",
    "    y_min, y_max = X[:, 1].min() - 1, X[:, 1].max() + 1\n",
    "    xx, yy = np.meshgrid(np.linspace(x_min, x_max, 100), np.linspace(y_min, y_max, 100))\n",
    "\n",
    "    Z = model.predict(np.c_[xx.ravel(), yy.ravel()])\n",
    "    Z = Z.reshape(xx.shape)\n",
    "\n",
    "    plt.contourf(xx, yy, Z, alpha=0.3, cmap=plt.cm.coolwarm)\n",
    "    plt.scatter(X[:, 0], X[:, 1], c=y, edgecolors='k', cmap=plt.cm.coolwarm)\n",
    "    plt.xlabel(\"Feature 1\")\n",
    "    plt.ylabel(\"Feature 2\")\n",
    "    plt.title(\"SVM with Polynomial Kernel\")\n",
    "    plt.show()\n",
    "\n",
    "\n",
    "plot_decision_boundary(svm_poly, X_train, y_train)\n"
   ]
  },
  {
   "cell_type": "code",
   "execution_count": 79,
   "id": "94c787c8-f005-4c0f-8eac-b1ab65586600",
   "metadata": {},
   "outputs": [],
   "source": [
    "#25 Write a Python program to train a Gaussian Naïve Bayes classifier on the Breast Cancer dataset and evaluate accuracy?\n"
   ]
  },
  {
   "cell_type": "code",
   "execution_count": 81,
   "id": "137c4d42-efc9-407f-a8b0-a201a059dff4",
   "metadata": {},
   "outputs": [
    {
     "name": "stdout",
     "output_type": "stream",
     "text": [
      "Gaussian Naïve Bayes Classifier Accuracy: 0.97\n"
     ]
    }
   ],
   "source": [
    "from sklearn.datasets import load_breast_cancer\n",
    "data = load_breast_cancer()\n",
    "X = data.data\n",
    "y = data.target\n",
    "\n",
    "from sklearn.model_selection import train_test_split\n",
    "X_train, X_test, y_train, y_test = train_test_split(X, y, test_size=0.2, random_state=42)\n",
    "\n",
    "from sklearn.naive_bayes import GaussianNB\n",
    "gnb = GaussianNB()\n",
    "gnb.fit(X_train, y_train)\n",
    "\n",
    "y_pred = gnb.predict(X_test)\n",
    "\n",
    "from sklearn.metrics import accuracy_score\n",
    "accuracy = accuracy_score(y_test, y_pred)\n",
    "print(f\"Gaussian Naïve Bayes Classifier Accuracy: {accuracy:.2f}\")\n"
   ]
  },
  {
   "cell_type": "code",
   "execution_count": 83,
   "id": "da6e1d3c-b784-4e7f-ba4f-b80e02c5f406",
   "metadata": {},
   "outputs": [],
   "source": [
    "#26 Write a Python program to train a Multinomial Naïve Bayes classifier for text classification using the 20 Newsgroups dataset.\n"
   ]
  },
  {
   "cell_type": "code",
   "execution_count": 85,
   "id": "2f3e30e1-bb50-4b82-9380-60270b4e2ca3",
   "metadata": {},
   "outputs": [
    {
     "name": "stdout",
     "output_type": "stream",
     "text": [
      "Multinomial Naïve Bayes Classifier Accuracy: 0.91\n"
     ]
    }
   ],
   "source": [
    "from sklearn.datasets import fetch_20newsgroups\n",
    "categories = ['rec.sport.baseball', 'sci.med', 'comp.graphics', 'talk.politics.mideast'] \n",
    "newsgroups = fetch_20newsgroups(subset='train', categories=categories, remove=('headers', 'footers', 'quotes'))\n",
    "X_train_text, y_train = newsgroups.data, newsgroups.target\n",
    "\n",
    "newsgroups_test = fetch_20newsgroups(subset='test', categories=categories, remove=('headers', 'footers', 'quotes'))\n",
    "X_test_text, y_test = newsgroups_test.data, newsgroups_test.target\n",
    "\n",
    "from sklearn.feature_extraction.text import TfidfVectorizer\n",
    "vectorizer = TfidfVectorizer(stop_words='english', max_features=5000)\n",
    "X_train = vectorizer.fit_transform(X_train_text)\n",
    "X_test = vectorizer.transform(X_test_text)\n",
    "\n",
    "from sklearn.naive_bayes import MultinomialNB\n",
    "mnb = MultinomialNB()\n",
    "mnb.fit(X_train, y_train)\n",
    "\n",
    "y_pred = mnb.predict(X_test)\n",
    "\n",
    "from sklearn.metrics import accuracy_score\n",
    "accuracy = accuracy_score(y_test, y_pred)\n",
    "print(f\"Multinomial Naïve Bayes Classifier Accuracy: {accuracy:.2f}\")\n"
   ]
  },
  {
   "cell_type": "code",
   "execution_count": 87,
   "id": "48732e82-8648-4cd7-934a-e1e6865f96ed",
   "metadata": {},
   "outputs": [],
   "source": [
    "#27 Write a Python program to train an SVM Classifier with different C values and compare the decision boundaries visually?\n"
   ]
  },
  {
   "cell_type": "code",
   "execution_count": 95,
   "id": "2e861a08-ede0-4e04-a6b8-9398c2fbb7bb",
   "metadata": {},
   "outputs": [
    {
     "data": {
      "image/png": "[encoded data removed]",
      "text/plain": [
       "<Figure size 1000x800 with 4 Axes>"
      ]
     },
     "metadata": {},
     "output_type": "display_data"
    }
   ],
   "source": [
    "\n",
    "from sklearn.datasets import make_moons\n",
    "X, y = make_moons(n_samples=200, noise=0.2, random_state=42)\n",
    "\n",
    "\n",
    "from sklearn.model_selection import train_test_split\n",
    "X_train, X_test, y_train, y_test = train_test_split(X, y, test_size=0.2, random_state=42)\n",
    "\n",
    "from sklearn.preprocessing import StandardScaler\n",
    "scaler = StandardScaler()\n",
    "X_train = scaler.fit_transform(X_train)\n",
    "X_test = scaler.transform(X_test)\n",
    "\n",
    "from sklearn.svm import SVC\n",
    "\n",
    "C_values = [0.1, 1, 10, 100]  \n",
    "models = [SVC(kernel='linear', C=C).fit(X_train, y_train) for C in C_values]\n",
    "\n",
    "def plot_decision_boundary(model, X, y, C_value):\n",
    "    x_min, x_max = X[:, 0].min() - 1, X[:, 0].max() + 1\n",
    "    y_min, y_max = X[:, 1].min() - 1, X[:, 1].max() + 1\n",
    "    xx, yy = np.meshgrid(np.linspace(x_min, x_max, 100), np.linspace(y_min, y_max, 100))\n",
    "\n",
    "    # Predict for each point in the meshgrid\n",
    "    Z = model.predict(np.c_[xx.ravel(), yy.ravel()])\n",
    "    Z = Z.reshape(xx.shape)\n",
    "\n",
    "    # Plot the decision boundary\n",
    "    plt.contourf(xx, yy, Z, alpha=0.3, cmap=plt.cm.coolwarm)\n",
    "    plt.scatter(X[:, 0], X[:, 1], c=y, edgecolors='k', cmap=plt.cm.coolwarm)\n",
    "    plt.title(f\"SVM Decision Boundary (C={C_value})\")\n",
    "    plt.xlabel(\"Feature 1\")\n",
    "    plt.ylabel(\"Feature 2\")\n",
    "\n",
    "# Step 6: Plot decision boundaries for different C values\n",
    "plt.figure(figsize=(10, 8))\n",
    "for i, (model, C) in enumerate(zip(models, C_values), 1):\n",
    "    plt.subplot(2, 2, i)\n",
    "    plot_decision_boundary(model, X_train, y_train, C)\n",
    "\n",
    "plt.tight_layout()\n",
    "plt.show()\n"
   ]
  },
  {
   "cell_type": "code",
   "execution_count": 97,
   "id": "0b0c99d4-09d2-4c1b-9786-2860805888ce",
   "metadata": {},
   "outputs": [],
   "source": [
    "#28 Write a Python program to train a Bernoulli Naïve Bayes classifier for binary classification on a dataset with binary features?\n"
   ]
  },
  {
   "cell_type": "code",
   "execution_count": 99,
   "id": "9e8d8253-7e08-4ed8-a1b9-4ef82aa3fef4",
   "metadata": {},
   "outputs": [
    {
     "name": "stdout",
     "output_type": "stream",
     "text": [
      "Bernoulli Naïve Bayes Classifier Accuracy: 0.78\n"
     ]
    }
   ],
   "source": [
    "from sklearn.datasets import make_classification\n",
    "X, y = make_classification(n_samples=500, n_features=10, n_informative=5, \n",
    "                           n_redundant=0, n_classes=2, random_state=42)\n",
    "\n",
    "X_binary = (X > np.median(X, axis=0)).astype(int) \n",
    "\n",
    "from sklearn.model_selection import train_test_split\n",
    "X_train, X_test, y_train, y_test = train_test_split(X_binary, y, test_size=0.2, random_state=42)\n",
    "\n",
    "from sklearn.naive_bayes import BernoulliNB\n",
    "bnb = BernoulliNB()\n",
    "bnb.fit(X_train, y_train)\n",
    "\n",
    "y_pred = bnb.predict(X_test)\n",
    "\n",
    "from sklearn.metrics import accuracy_score\n",
    "accuracy = accuracy_score(y_test, y_pred)\n",
    "print(f\"Bernoulli Naïve Bayes Classifier Accuracy: {accuracy:.2f}\")\n"
   ]
  },
  {
   "cell_type": "code",
   "execution_count": 103,
   "id": "7a493ace-d959-47ed-8292-ca026cfe5737",
   "metadata": {},
   "outputs": [],
   "source": [
    "#29 Write a Python program to apply feature scaling before training an SVM model and compare results with unscaled data?\n"
   ]
  },
  {
   "cell_type": "code",
   "execution_count": 107,
   "id": "dd1afad0-31c3-410c-83f0-13917e0c5904",
   "metadata": {},
   "outputs": [
    {
     "name": "stdout",
     "output_type": "stream",
     "text": [
      "Accuracy without Scaling: 0.81\n",
      "Accuracy with Scaling: 1.00\n"
     ]
    }
   ],
   "source": [
    "\n",
    "from sklearn.datasets import load_wine\n",
    "data = load_wine()\n",
    "X, y = data.data, data.target\n",
    "\n",
    "from sklearn.model_selection import train_test_split\n",
    "X_train, X_test, y_train, y_test = train_test_split(X, y, test_size=0.2, random_state=42)\n",
    "\n",
    "from sklearn.svm import SVC\n",
    "from sklearn.metrics import accuracy_score\n",
    "\n",
    "svm_unscaled = SVC(kernel='rbf', C=1)\n",
    "svm_unscaled.fit(X_train, y_train)\n",
    "y_pred_unscaled = svm_unscaled.predict(X_test)\n",
    "accuracy_unscaled = accuracy_score(y_test, y_pred_unscaled)\n",
    "print(f\"Accuracy without Scaling: {accuracy_unscaled:.2f}\")\n",
    "\n",
    "from sklearn.preprocessing import StandardScaler\n",
    "scaler = StandardScaler()\n",
    "X_train_scaled = scaler.fit_transform(X_train)\n",
    "X_test_scaled = scaler.transform(X_test)\n",
    "\n",
    "svm_scaled = SVC(kernel='rbf', C=1)\n",
    "svm_scaled.fit(X_train_scaled, y_train)\n",
    "y_pred_scaled = svm_scaled.predict(X_test_scaled)\n",
    "accuracy_scaled = accuracy_score(y_test, y_pred_scaled)\n",
    "print(f\"Accuracy with Scaling: {accuracy_scaled:.2f}\")\n"
   ]
  },
  {
   "cell_type": "code",
   "execution_count": 109,
   "id": "cae49ff1-9ecf-4e25-9642-7d5a05c9f131",
   "metadata": {},
   "outputs": [],
   "source": [
    "#30  Write a Python program to train a Gaussian Naïve Bayes model and compare the predictions before and after Laplace Smoothing?\n"
   ]
  },
  {
   "cell_type": "code",
   "execution_count": 111,
   "id": "93ea8c6b-2951-4d51-bf69-faed7a4c98cd",
   "metadata": {},
   "outputs": [
    {
     "name": "stdout",
     "output_type": "stream",
     "text": [
      "Accuracy without Laplace Smoothing: 1.00\n",
      "Accuracy with Laplace Smoothing: 1.00\n"
     ]
    }
   ],
   "source": [
    "\n",
    "from sklearn.datasets import load_iris\n",
    "data = load_iris()\n",
    "X, y = data.data, data.target\n",
    "\n",
    "from sklearn.model_selection import train_test_split\n",
    "X_train, X_test, y_train, y_test = train_test_split(X, y, test_size=0.2, random_state=42)\n",
    "\n",
    "\n",
    "from sklearn.naive_bayes import GaussianNB\n",
    "from sklearn.metrics import accuracy_score\n",
    "\n",
    "gnb_no_smoothing = GaussianNB(var_smoothing=0)  \n",
    "y_pred_no_smoothing = gnb_no_smoothing.predict(X_test)\n",
    "accuracy_no_smoothing = accuracy_score(y_test, y_pred_no_smoothing)\n",
    "print(f\"Accuracy without Laplace Smoothing: {accuracy_no_smoothing:.2f}\")\n",
    "\n",
    "# Step 4: Train Gaussian Naïve Bayes model with Laplace Smoothing\n",
    "gnb_smoothing = GaussianNB(var_smoothing=1e-9)  # Default Laplace Smoothing\n",
    "gnb_smoothing.fit(X_train, y_train)\n",
    "y_pred_smoothing = gnb_smoothing.predict(X_test)\n",
    "accuracy_smoothing = accuracy_score(y_test, y_pred_smoothing)\n",
    "print(f\"Accuracy with Laplace Smoothing: {accuracy_smoothing:.2f}\")\n"
   ]
  },
  {
   "cell_type": "code",
   "execution_count": 113,
   "id": "4f13607c-a868-41af-9f96-abc1745e0905",
   "metadata": {},
   "outputs": [],
   "source": [
    "#31 Write a Python program to train an SVM Classifier and use GridSearchCV to tune the hyperparameters (C,gamma, kernel)?\n"
   ]
  },
  {
   "cell_type": "code",
   "execution_count": 119,
   "id": "358ca253-51ff-4fa6-9d19-91ae8b12ae42",
   "metadata": {},
   "outputs": [
    {
     "name": "stdout",
     "output_type": "stream",
     "text": [
      "Best Hyperparameters: {'C': 100, 'gamma': 0.01, 'kernel': 'rbf'}\n",
      "Test Accuracy with Best Parameters: 0.97\n"
     ]
    }
   ],
   "source": [
    "\n",
    "from sklearn.datasets import load_iris\n",
    "data = load_iris()\n",
    "X, y = data.data, data.target\n",
    "\n",
    "from sklearn.model_selection import train_test_split\n",
    "X_train, X_test, y_train, y_test = train_test_split(X, y, test_size=0.2, random_state=42)\n",
    "\n",
    "\n",
    "from sklearn.preprocessing import StandardScaler\n",
    "scaler = StandardScaler()\n",
    "X_train = scaler.fit_transform(X_train)\n",
    "X_test = scaler.transform(X_test)\n",
    "\n",
    "\n",
    "from sklearn.svm import SVC\n",
    "from sklearn.model_selection import GridSearchCV\n",
    "\n",
    "param_grid = {\n",
    "    'C': [0.1, 1, 10, 100],          \n",
    "    'gamma': ['scale', 'auto', 0.01, 0.1, 1],  \n",
    "    'kernel': ['linear', 'rbf', 'poly']  \n",
    "}\n",
    "\n",
    "svm = SVC()\n",
    "\n",
    "\n",
    "grid_search = GridSearchCV(svm, param_grid, cv=5, scoring='accuracy', n_jobs=-1)\n",
    "grid_search.fit(X_train, y_train)\n",
    "\n",
    "print(\"Best Hyperparameters: {}\".format(grid_search.best_params_))\n",
    "\n",
    "best_svm = grid_search.best_estimator_\n",
    "y_pred = best_svm.predict(X_test)\n",
    "\n",
    "from sklearn.metrics import accuracy_score\n",
    "accuracy = accuracy_score(y_test, y_pred)\n",
    "print(f\"Test Accuracy with Best Parameters: {accuracy:.2f}\")\n"
   ]
  },
  {
   "cell_type": "code",
   "execution_count": 121,
   "id": "3188a58a-36f5-4c8e-b6e8-b880f3187cd4",
   "metadata": {},
   "outputs": [],
   "source": [
    "#32 Write a Python program to train an SVM Classifier on an imbalanced dataset and apply class weighting and check it improve accuracy?\n"
   ]
  },
  {
   "cell_type": "code",
   "execution_count": 123,
   "id": "cc0ba4f1-9470-4bac-85a3-e4400bc11727",
   "metadata": {},
   "outputs": [
    {
     "name": "stdout",
     "output_type": "stream",
     "text": [
      "Accuracy without Class Weighting: 0.92\n",
      "Balanced Accuracy without Class Weighting: 0.70\n",
      "Accuracy with Class Weighting: 0.89\n",
      "Balanced Accuracy with Class Weighting: 0.83\n"
     ]
    }
   ],
   "source": [
    "\n",
    "from sklearn.datasets import make_classification\n",
    "X, y = make_classification(n_samples=1000, n_features=10, n_classes=2, \n",
    "                           weights=[0.9, 0.1], random_state=42)\n",
    "\n",
    "from sklearn.model_selection import train_test_split\n",
    "X_train, X_test, y_train, y_test = train_test_split(X, y, test_size=0.2, random_state=42)\n",
    "\n",
    "from sklearn.svm import SVC\n",
    "from sklearn.metrics import accuracy_score, balanced_accuracy_score\n",
    "\n",
    "svm_no_weighting = SVC(kernel='rbf', C=1, random_state=42)\n",
    "svm_no_weighting.fit(X_train, y_train)\n",
    "y_pred_no_weighting = svm_no_weighting.predict(X_test)\n",
    "\n",
    "accuracy_no_weighting = accuracy_score(y_test, y_pred_no_weighting)\n",
    "balanced_acc_no_weighting = balanced_accuracy_score(y_test, y_pred_no_weighting)\n",
    "\n",
    "print(f\"Accuracy without Class Weighting: {accuracy_no_weighting:.2f}\")\n",
    "print(f\"Balanced Accuracy without Class Weighting: {balanced_acc_no_weighting:.2f}\")\n",
    "\n",
    "svm_weighted = SVC(kernel='rbf', C=1, class_weight='balanced', random_state=42)\n",
    "svm_weighted.fit(X_train, y_train)\n",
    "y_pred_weighted = svm_weighted.predict(X_test)\n",
    "\n",
    "accuracy_weighted = accuracy_score(y_test, y_pred_weighted)\n",
    "balanced_acc_weighted = balanced_accuracy_score(y_test, y_pred_weighted)\n",
    "\n",
    "print(f\"Accuracy with Class Weighting: {accuracy_weighted:.2f}\")\n",
    "print(f\"Balanced Accuracy with Class Weighting: {balanced_acc_weighted:.2f}\")\n"
   ]
  },
  {
   "cell_type": "code",
   "execution_count": 4,
   "id": "6cfcff3d-4a5d-47c0-88a9-6c20efb8cd3d",
   "metadata": {},
   "outputs": [],
   "source": [
    "#33 Write a Python program to implement a Naïve Bayes classifier for spam detection using email data?"
   ]
  },
  {
   "cell_type": "code",
   "execution_count": 12,
   "id": "64f58aba-0836-44f6-a3c7-21cbfc2f6717",
   "metadata": {},
   "outputs": [
    {
     "name": "stdout",
     "output_type": "stream",
     "text": [
      "Spam Detection Accuracy: 0.50\n",
      "Classification Report:\n",
      "               precision    recall  f1-score   support\n",
      "\n",
      "           0       0.50      1.00      0.67         1\n",
      "           1       0.00      0.00      0.00         1\n",
      "\n",
      "    accuracy                           0.50         2\n",
      "   macro avg       0.25      0.50      0.33         2\n",
      "weighted avg       0.25      0.50      0.33         2\n",
      "\n"
     ]
    }
   ],
   "source": [
    "\n",
    "\n",
    "# Sample dataset \n",
    "data = {\n",
    "    \"message\": [\n",
    "        \"Win a free iPhone now!\", \"Congratulations, you won a lottery!\", \n",
    "        \"Urgent: Your account has been compromised\", \"Meeting at 3 PM today\",\n",
    "        \"Reminder: Your appointment is tomorrow\", \"Hello, how are you?\",\n",
    "        \"Limited time offer! Buy now!\", \"Earn $1000 from home\", \n",
    "        \"Let's catch up for lunch\", \"Your Amazon order has been shipped\"\n",
    "    ],\n",
    "    \"label\": [1, 1, 1, 0, 0, 0, 1, 1, 0, 0]  # 1 = spam, 0 = ham\n",
    "}\n",
    "\n",
    "\n",
    "df = pd.DataFrame(data)\n",
    "\n",
    "\n",
    "from sklearn.model_selection import train_test_split\n",
    "X_train, X_test, y_train, y_test = train_test_split(df['message'], df['label'], test_size=0.2, random_state=42)\n",
    "\n",
    "from sklearn.feature_extraction.text import CountVectorizer, TfidfTransformer\n",
    "vectorizer = CountVectorizer(stop_words='english')\n",
    "X_train_counts = vectorizer.fit_transform(X_train)\n",
    "X_test_counts = vectorizer.transform(X_test)\n",
    "\n",
    "tfidf_transformer = TfidfTransformer()\n",
    "X_train_tfidf = tfidf_transformer.fit_transform(X_train_counts)\n",
    "X_test_tfidf = tfidf_transformer.transform(X_test_counts)\n",
    "\n",
    "from sklearn.naive_bayes import MultinomialNB\n",
    "classifier = MultinomialNB()\n",
    "classifier.fit(X_train_tfidf, y_train)\n",
    "\n",
    "y_pred = classifier.predict(X_test_tfidf)\n",
    "\n",
    "\n",
    "from sklearn.metrics import accuracy_score, classification_report\n",
    "accuracy = accuracy_score(y_test, y_pred)\n",
    "print(f\"Spam Detection Accuracy: {accuracy:.2f}\")\n",
    "print(\"Classification Report:\\n\", classification_report(y_test, y_pred))\n"
   ]
  },
  {
   "cell_type": "code",
   "execution_count": 14,
   "id": "05fde053-cc24-4c41-bd58-3e22bef20ab9",
   "metadata": {},
   "outputs": [],
   "source": [
    "#34 Write a Python program to train an SVM Classifier and a Naïve Bayes Classifier on the same dataset and compare their accuracy?\n"
   ]
  },
  {
   "cell_type": "code",
   "execution_count": 16,
   "id": "f71600db-9ac7-42fa-9c28-3a113235ff4a",
   "metadata": {},
   "outputs": [
    {
     "name": "stdout",
     "output_type": "stream",
     "text": [
      "Naïve Bayes Accuracy: 0.50\n",
      "SVM Accuracy: 0.50\n",
      "\n",
      "Naïve Bayes Classification Report:\n",
      "               precision    recall  f1-score   support\n",
      "\n",
      "           0       0.50      1.00      0.67         1\n",
      "           1       0.00      0.00      0.00         1\n",
      "\n",
      "    accuracy                           0.50         2\n",
      "   macro avg       0.25      0.50      0.33         2\n",
      "weighted avg       0.25      0.50      0.33         2\n",
      "\n",
      "\n",
      "SVM Classification Report:\n",
      "               precision    recall  f1-score   support\n",
      "\n",
      "           0       0.00      0.00      0.00         1\n",
      "           1       0.50      1.00      0.67         1\n",
      "\n",
      "    accuracy                           0.50         2\n",
      "   macro avg       0.25      0.50      0.33         2\n",
      "weighted avg       0.25      0.50      0.33         2\n",
      "\n"
     ]
    }
   ],
   "source": [
    "\n",
    "\n",
    "data = {\n",
    "    \"message\": [\n",
    "        \"Win a free iPhone now!\", \"Congratulations, you won a lottery!\", \n",
    "        \"Urgent: Your account has been compromised\", \"Meeting at 3 PM today\",\n",
    "        \"Reminder: Your appointment is tomorrow\", \"Hello, how are you?\",\n",
    "        \"Limited time offer! Buy now!\", \"Earn $1000 from home\", \n",
    "        \"Let's catch up for lunch\", \"Your Amazon order has been shipped\"\n",
    "    ],\n",
    "    \"label\": [1, 1, 1, 0, 0, 0, 1, 1, 0, 0]  # 1 = spam, 0 = ham\n",
    "}\n",
    "\n",
    "df = pd.DataFrame(data)\n",
    "\n",
    "from sklearn.model_selection import train_test_split\n",
    "\n",
    "X_train, X_test, y_train, y_test = train_test_split(df['message'], df['label'], test_size=0.2, random_state=42)\n",
    "\n",
    "from sklearn.feature_extraction.text import CountVectorizer, TfidfTransformer\n",
    "\n",
    "vectorizer = CountVectorizer(stop_words='english')\n",
    "X_train_counts = vectorizer.fit_transform(X_train)\n",
    "X_test_counts = vectorizer.transform(X_test)\n",
    "\n",
    "tfidf_transformer = TfidfTransformer()\n",
    "X_train_tfidf = tfidf_transformer.fit_transform(X_train_counts)\n",
    "X_test_tfidf = tfidf_transformer.transform(X_test_counts)\n",
    "\n",
    "from sklearn.naive_bayes import MultinomialNB\n",
    "\n",
    "nb_classifier = MultinomialNB()\n",
    "nb_classifier.fit(X_train_tfidf, y_train)\n",
    "\n",
    "from sklearn.svm import SVC\n",
    "\n",
    "svm_classifier = SVC(kernel='linear')\n",
    "svm_classifier.fit(X_train_tfidf, y_train)\n",
    "\n",
    "nb_pred = nb_classifier.predict(X_test_tfidf)\n",
    "svm_pred = svm_classifier.predict(X_test_tfidf)\n",
    "\n",
    "from sklearn.metrics import accuracy_score, classification_report\n",
    "\n",
    "nb_accuracy = accuracy_score(y_test, nb_pred)\n",
    "svm_accuracy = accuracy_score(y_test, svm_pred)\n",
    "\n",
    "print(f\"Naïve Bayes Accuracy: {nb_accuracy:.2f}\")\n",
    "print(f\"SVM Accuracy: {svm_accuracy:.2f}\")\n",
    "\n",
    "print(\"\\nNaïve Bayes Classification Report:\\n\", classification_report(y_test, nb_pred))\n",
    "print(\"\\nSVM Classification Report:\\n\", classification_report(y_test, svm_pred))\n"
   ]
  },
  {
   "cell_type": "code",
   "execution_count": 18,
   "id": "1d1c0634-135c-410a-8e7c-4de62d6da883",
   "metadata": {},
   "outputs": [],
   "source": [
    "# therefore accuracy of both the models is same"
   ]
  },
  {
   "cell_type": "code",
   "execution_count": 24,
   "id": "1505b772-7e8e-43ab-a431-9691d84a95bf",
   "metadata": {},
   "outputs": [],
   "source": [
    "#35 Write a Python program to perform feature selection before training a Naïve Bayes classifier and compare results?\n"
   ]
  },
  {
   "cell_type": "code",
   "execution_count": 26,
   "id": "55919dc9-aa49-44cc-87ff-e1547b08d94f",
   "metadata": {},
   "outputs": [
    {
     "name": "stdout",
     "output_type": "stream",
     "text": [
      "Naïve Bayes Accuracy (Before Feature Selection): 0.50\n",
      "Naïve Bayes Accuracy (After Feature Selection): 0.50\n",
      "\n",
      "Classification Report (Before Feature Selection):\n",
      "               precision    recall  f1-score   support\n",
      "\n",
      "           0       0.50      1.00      0.67         1\n",
      "           1       0.00      0.00      0.00         1\n",
      "\n",
      "    accuracy                           0.50         2\n",
      "   macro avg       0.25      0.50      0.33         2\n",
      "weighted avg       0.25      0.50      0.33         2\n",
      "\n",
      "\n",
      "Classification Report (After Feature Selection):\n",
      "               precision    recall  f1-score   support\n",
      "\n",
      "           0       0.50      1.00      0.67         1\n",
      "           1       0.00      0.00      0.00         1\n",
      "\n",
      "    accuracy                           0.50         2\n",
      "   macro avg       0.25      0.50      0.33         2\n",
      "weighted avg       0.25      0.50      0.33         2\n",
      "\n"
     ]
    }
   ],
   "source": [
    "\n",
    "\n",
    "data = {\n",
    "    \"message\": [\n",
    "        \"Win a free iPhone now!\", \"Congratulations, you won a lottery!\", \n",
    "        \"Urgent: Your account has been compromised\", \"Meeting at 3 PM today\",\n",
    "        \"Reminder: Your appointment is tomorrow\", \"Hello, how are you?\",\n",
    "        \"Limited time offer! Buy now!\", \"Earn $1000 from home\", \n",
    "        \"Let's catch up for lunch\", \"Your Amazon order has been shipped\"\n",
    "    ],\n",
    "    \"label\": [1, 1, 1, 0, 0, 0, 1, 1, 0, 0]  # 1 = spam, 0 = ham\n",
    "}\n",
    "\n",
    "df = pd.DataFrame(data)\n",
    "\n",
    "from sklearn.model_selection import train_test_split\n",
    "X_train, X_test, y_train, y_test = train_test_split(df['message'], df['label'], test_size=0.2, random_state=42)\n",
    "\n",
    "from sklearn.feature_extraction.text import CountVectorizer, TfidfTransformer\n",
    "\n",
    "vectorizer = CountVectorizer(stop_words='english')\n",
    "X_train_counts = vectorizer.fit_transform(X_train)\n",
    "X_test_counts = vectorizer.transform(X_test)\n",
    "\n",
    "tfidf_transformer = TfidfTransformer()\n",
    "X_train_tfidf = tfidf_transformer.fit_transform(X_train_counts)\n",
    "X_test_tfidf = tfidf_transformer.transform(X_test_counts)\n",
    "\n",
    "from sklearn.feature_selection import SelectKBest, chi2\n",
    "\n",
    "k_best = SelectKBest(score_func=chi2, k=5)\n",
    "X_train_selected = k_best.fit_transform(X_train_tfidf, y_train)\n",
    "X_test_selected = k_best.transform(X_test_tfidf)\n",
    "\n",
    "from sklearn.naive_bayes import MultinomialNB\n",
    "from sklearn.metrics import accuracy_score, classification_report\n",
    "\n",
    "nb_classifier = MultinomialNB()\n",
    "nb_classifier.fit(X_train_tfidf, y_train)\n",
    "nb_pred = nb_classifier.predict(X_test_tfidf)\n",
    "\n",
    "nb_classifier_selected = MultinomialNB()\n",
    "nb_classifier_selected.fit(X_train_selected, y_train)\n",
    "nb_pred_selected = nb_classifier_selected.predict(X_test_selected)\n",
    "\n",
    "accuracy_before = accuracy_score(y_test, nb_pred)\n",
    "accuracy_after = accuracy_score(y_test, nb_pred_selected)\n",
    "\n",
    "print(f\"Naïve Bayes Accuracy (Before Feature Selection): {accuracy_before:.2f}\")\n",
    "print(f\"Naïve Bayes Accuracy (After Feature Selection): {accuracy_after:.2f}\")\n",
    "\n",
    "print(\"\\nClassification Report (Before Feature Selection):\\n\", classification_report(y_test, nb_pred))\n",
    "print(\"\\nClassification Report (After Feature Selection):\\n\", classification_report(y_test, nb_pred_selected))\n"
   ]
  },
  {
   "cell_type": "code",
   "execution_count": 28,
   "id": "deff7bdc-226c-4811-90ad-9cffe6d7fff2",
   "metadata": {},
   "outputs": [],
   "source": [
    "#36 Write a Python program to train an SVM Classifier using One-vs-Rest (OvR) and One-vs-One (OvO) strategies on the Wine dataset and compare their accuracy?\n"
   ]
  },
  {
   "cell_type": "code",
   "execution_count": 30,
   "id": "4100abbd-a769-42bf-8708-8fc2ed671327",
   "metadata": {},
   "outputs": [
    {
     "name": "stdout",
     "output_type": "stream",
     "text": [
      "Accuracy of SVM with One-vs-Rest (OvR): 1.00\n",
      "Accuracy of SVM with One-vs-One (OvO): 1.00\n"
     ]
    }
   ],
   "source": [
    "\n",
    "from sklearn.datasets import load_wine\n",
    "\n",
    "wine = load_wine()\n",
    "from sklearn.model_selection import train_test_split\n",
    "X_train, X_test, y_train, y_test = train_test_split(wine.data, wine.target, test_size=0.2, random_state=42)\n",
    "\n",
    "from sklearn.svm import SVC\n",
    "from sklearn.multiclass import OneVsRestClassifier\n",
    "from sklearn.metrics import accuracy_score\n",
    "\n",
    "svm_ovr = OneVsRestClassifier(SVC(kernel='linear'))\n",
    "svm_ovr.fit(X_train, y_train)\n",
    "y_pred_ovr = svm_ovr.predict(X_test)\n",
    "accuracy_ovr = accuracy_score(y_test, y_pred_ovr)\n",
    "\n",
    "from sklearn.multiclass import OneVsOneClassifier\n",
    "\n",
    "svm_ovo = OneVsOneClassifier(SVC(kernel='linear'))\n",
    "svm_ovo.fit(X_train, y_train)\n",
    "y_pred_ovo = svm_ovo.predict(X_test)\n",
    "accuracy_ovo = accuracy_score(y_test, y_pred_ovo)\n",
    "\n",
    "print(f\"Accuracy of SVM with One-vs-Rest (OvR): {accuracy_ovr:.2f}\")\n",
    "print(f\"Accuracy of SVM with One-vs-One (OvO): {accuracy_ovo:.2f}\")\n"
   ]
  },
  {
   "cell_type": "code",
   "execution_count": 34,
   "id": "56d79563-4ce2-4bc7-b920-dfb01d45e2e2",
   "metadata": {},
   "outputs": [],
   "source": [
    "#37 Write a Python program to train an SVM Classifier using Linear, Polynomial, and RBF kernels on the Breast Cancer dataset and compare their accuracy?\n"
   ]
  },
  {
   "cell_type": "code",
   "execution_count": 36,
   "id": "02956423-7dc9-42c3-a215-981eed7f16ff",
   "metadata": {},
   "outputs": [
    {
     "name": "stdout",
     "output_type": "stream",
     "text": [
      "Accuracy of SVM with Linear Kernel: 0.96\n",
      "Accuracy of SVM with Poly Kernel: 0.87\n",
      "Accuracy of SVM with Rbf Kernel: 0.98\n"
     ]
    }
   ],
   "source": [
    "from sklearn.datasets import load_breast_cancer\n",
    "from sklearn.model_selection import train_test_split\n",
    "\n",
    "cancer = load_breast_cancer()\n",
    "X_train, X_test, y_train, y_test = train_test_split(cancer.data, cancer.target, test_size=0.2, random_state=42)\n",
    "\n",
    "from sklearn.preprocessing import StandardScaler\n",
    "\n",
    "scaler = StandardScaler()\n",
    "X_train = scaler.fit_transform(X_train)\n",
    "X_test = scaler.transform(X_test)\n",
    "\n",
    "from sklearn.svm import SVC\n",
    "from sklearn.metrics import accuracy_score\n",
    "\n",
    "kernels = ['linear', 'poly', 'rbf']\n",
    "accuracies = {}\n",
    "\n",
    "for kernel in kernels:\n",
    "    if kernel == 'poly':\n",
    "        model = SVC(kernel=kernel, degree=3)  # Polynomial kernel with degree 3\n",
    "    else:\n",
    "        model = SVC(kernel=kernel)\n",
    "\n",
    "    model.fit(X_train, y_train)\n",
    "    y_pred = model.predict(X_test)\n",
    "    accuracies[kernel] = accuracy_score(y_test, y_pred)\n",
    "\n",
    "for kernel, acc in accuracies.items():\n",
    "    print(f\"Accuracy of SVM with {kernel.capitalize()} Kernel: {acc:.2f}\")\n"
   ]
  },
  {
   "cell_type": "code",
   "execution_count": 44,
   "id": "d976f0e8-0bee-4eda-b79e-7c79a7e024b5",
   "metadata": {},
   "outputs": [],
   "source": [
    "#38 Write a Python program to train an SVM Classifier using Stratified K-Fold Cross-Validation and compute the average accuracy?\n"
   ]
  },
  {
   "cell_type": "code",
   "execution_count": 46,
   "id": "79033da3-5de9-493c-8b6f-46d085c8e3e8",
   "metadata": {},
   "outputs": [
    {
     "name": "stdout",
     "output_type": "stream",
     "text": [
      "Average Accuracy of SVM Classifier with Stratified K-Fold CV: 0.97\n"
     ]
    }
   ],
   "source": [
    "\n",
    "from sklearn.datasets import load_breast_cancer\n",
    "\n",
    "cancer = load_breast_cancer()\n",
    "X, y = cancer.data, cancer.target\n",
    "\n",
    "from sklearn.model_selection import StratifiedKFold\n",
    "\n",
    "skf = StratifiedKFold(n_splits=5, shuffle=True, random_state=42)\n",
    "\n",
    "accuracies = []\n",
    "\n",
    "for train_index, test_index in skf.split(X, y):\n",
    "    X_train, X_test = X[train_index], X[test_index]\n",
    "    y_train, y_test = y[train_index], y[test_index]\n",
    "\n",
    "\n",
    "    from sklearn.preprocessing import StandardScaler\n",
    "\n",
    "    scaler = StandardScaler()\n",
    "    X_train = scaler.fit_transform(X_train)\n",
    "    X_test = scaler.transform(X_test)\n",
    "\n",
    "\n",
    "    from sklearn.svm import SVC\n",
    "\n",
    "    model = SVC(kernel='linear')\n",
    "    model.fit(X_train, y_train)\n",
    "\n",
    "\n",
    "    from sklearn.metrics import accuracy_score\n",
    "\n",
    "    y_pred = model.predict(X_test)\n",
    "    accuracies.append(accuracy_score(y_test, y_pred))\n",
    "\n",
    "\n",
    "average_accuracy = np.mean(accuracies)\n",
    "print(f\"Average Accuracy of SVM Classifier with Stratified K-Fold CV: {average_accuracy:.2f}\")\n"
   ]
  },
  {
   "cell_type": "code",
   "execution_count": 48,
   "id": "4aca7ae4-13db-4ad5-8b8d-fe792b1532bc",
   "metadata": {},
   "outputs": [],
   "source": [
    "#39 Write a Python program to train a Naïve Bayes classifier using different prior probabilities and compare performance?\n"
   ]
  },
  {
   "cell_type": "code",
   "execution_count": null,
   "id": "5de6ab50-9d42-4977-b18e-59e83ef19134",
   "metadata": {},
   "outputs": [],
   "source": []
  },
  {
   "cell_type": "code",
   "execution_count": null,
   "id": "e8254532-409a-42f2-9113-37ae144d1183",
   "metadata": {},
   "outputs": [],
   "source": [
    "#40 Write a Python program to perform Recursive Feature Elimination (RFE) before training an SVM Classifier and compare accuracy?\n"
   ]
  },
  {
   "cell_type": "code",
   "execution_count": 66,
   "id": "0bd0f705-2d92-4e54-b36c-ad589a7f3d3b",
   "metadata": {},
   "outputs": [
    {
     "name": "stdout",
     "output_type": "stream",
     "text": [
      "Accuracy without RFE: 0.9561\n",
      "Accuracy with RFE: 0.9737\n"
     ]
    }
   ],
   "source": [
    "\n",
    "from sklearn.datasets import load_breast_cancer\n",
    "\n",
    "cancer = load_breast_cancer()\n",
    "X, y = cancer.data, cancer.target\n",
    "\n",
    "from sklearn.model_selection import train_test_split\n",
    "\n",
    "X_train, X_test, y_train, y_test = train_test_split(X, y, test_size=0.2, random_state=42)\n",
    "\n",
    "\n",
    "from sklearn.preprocessing import StandardScaler\n",
    "\n",
    "scaler = StandardScaler()\n",
    "X_train = scaler.fit_transform(X_train)\n",
    "X_test = scaler.transform(X_test)\n",
    "\n",
    "from sklearn.svm import SVC\n",
    "from sklearn.metrics import accuracy_score\n",
    "\n",
    "svm = SVC(kernel='linear')\n",
    "svm.fit(X_train, y_train)\n",
    "y_pred = svm.predict(X_test)\n",
    "accuracy_without_rfe = accuracy_score(y_test, y_pred)\n",
    "\n",
    "from sklearn.feature_selection import RFE\n",
    "\n",
    "rfe = RFE(estimator=SVC(kernel='linear'), n_features_to_select=10)\n",
    "X_train_rfe = rfe.fit_transform(X_train, y_train)\n",
    "X_test_rfe = rfe.transform(X_test)\n",
    "\n",
    "svm_rfe = SVC(kernel='linear')\n",
    "svm_rfe.fit(X_train_rfe, y_train)\n",
    "y_pred_rfe = svm_rfe.predict(X_test_rfe)\n",
    "accuracy_with_rfe = accuracy_score(y_test, y_pred_rfe)\n",
    "\n",
    "print(f\"Accuracy without RFE: {accuracy_without_rfe:.4f}\")\n",
    "print(f\"Accuracy with RFE: {accuracy_with_rfe:.4f}\")\n"
   ]
  },
  {
   "cell_type": "code",
   "execution_count": null,
   "id": "4cf3bf83-913a-49f9-a9a5-74ff3d80a04e",
   "metadata": {},
   "outputs": [],
   "source": [
    "#41 Write a Python program to train an SVM Classifier and evaluate its performance using Precision, Recall, and F1-Score instead of accuracy?\n"
   ]
  },
  {
   "cell_type": "code",
   "execution_count": 64,
   "id": "96d75a7e-2248-4f50-8bd7-78f8c4bd3282",
   "metadata": {},
   "outputs": [
    {
     "name": "stdout",
     "output_type": "stream",
     "text": [
      "Precision: 0.9714\n",
      "Recall: 0.9577\n",
      "F1-Score: 0.9645\n"
     ]
    }
   ],
   "source": [
    "from sklearn.datasets import load_breast_cancer\n",
    "\n",
    "cancer = load_breast_cancer()\n",
    "X, y = cancer.data, cancer.target\n",
    "\n",
    "from sklearn.model_selection import train_test_split\n",
    "\n",
    "X_train, X_test, y_train, y_test = train_test_split(X, y, test_size=0.2, random_state=42)\n",
    "\n",
    "from sklearn.preprocessing import StandardScaler\n",
    "\n",
    "scaler = StandardScaler()\n",
    "X_train = scaler.fit_transform(X_train)\n",
    "X_test = scaler.transform(X_test)\n",
    "\n",
    "from sklearn.svm import SVC\n",
    "\n",
    "model = SVC(kernel='linear')\n",
    "model.fit(X_train, y_train)\n",
    "\n",
    "from sklearn.metrics import precision_score, recall_score, f1_score\n",
    "\n",
    "y_pred = model.predict(X_test)\n",
    "precision = precision_score(y_test, y_pred)\n",
    "recall = recall_score(y_test, y_pred)\n",
    "f1 = f1_score(y_test, y_pred)\n",
    "\n",
    "\n",
    "print(f\"Precision: {precision:.4f}\")\n",
    "print(f\"Recall: {recall:.4f}\")\n",
    "print(f\"F1-Score: {f1:.4f}\")\n"
   ]
  },
  {
   "cell_type": "code",
   "execution_count": null,
   "id": "bcea5e25-f105-4b87-ba0d-3fcd8780c8b8",
   "metadata": {},
   "outputs": [],
   "source": [
    "#42 Write a Python program to train a Naïve Bayes Classifier and evaluate its performance using Log Loss (Cross-Entropy Loss)?\n"
   ]
  },
  {
   "cell_type": "code",
   "execution_count": 62,
   "id": "cadf6efc-b209-4163-a228-a79e0c737570",
   "metadata": {},
   "outputs": [
    {
     "name": "stdout",
     "output_type": "stream",
     "text": [
      "Log Loss (Cross-Entropy) for Naïve Bayes Classifier: 0.2051\n"
     ]
    }
   ],
   "source": [
    "\n",
    "from sklearn.datasets import load_breast_cancer\n",
    "\n",
    "cancer = load_breast_cancer()\n",
    "X, y = cancer.data, cancer.target\n",
    "\n",
    "from sklearn.model_selection import train_test_split\n",
    "\n",
    "X_train, X_test, y_train, y_test = train_test_split(X, y, test_size=0.2, random_state=42)\n",
    "\n",
    "from sklearn.preprocessing import StandardScaler\n",
    "\n",
    "scaler = StandardScaler()\n",
    "X_train = scaler.fit_transform(X_train)\n",
    "X_test = scaler.transform(X_test)\n",
    "\n",
    "from sklearn.naive_bayes import GaussianNB\n",
    "\n",
    "model = GaussianNB()\n",
    "model.fit(X_train, y_train)\n",
    "\n",
    "from sklearn.metrics import log_loss\n",
    "\n",
    "y_prob = model.predict_proba(X_test)  # Get probability estimates for both classes\n",
    "logloss = log_loss(y_test, y_prob)\n",
    "\n",
    "print(f\"Log Loss (Cross-Entropy) for Naïve Bayes Classifier: {logloss:.4f}\")\n"
   ]
  },
  {
   "cell_type": "code",
   "execution_count": 50,
   "id": "bac721a3-c280-4089-9c85-25525d4ee394",
   "metadata": {},
   "outputs": [],
   "source": [
    "#43 Write a Python program to train an SVM Classifier and visualize the Confusion Matrix using seaborn?"
   ]
  },
  {
   "cell_type": "code",
   "execution_count": 60,
   "id": "52ef7d3d-fade-4ec9-a233-825e2119bd4f",
   "metadata": {},
   "outputs": [
    {
     "data": {
      "image/png": "[encoded data removed]",
      "text/plain": [
       "<Figure size 600x500 with 2 Axes>"
      ]
     },
     "metadata": {},
     "output_type": "display_data"
    }
   ],
   "source": [
    "from sklearn.datasets import load_breast_cancer\n",
    "\n",
    "cancer = load_breast_cancer()\n",
    "X, y = cancer.data, cancer.target\n",
    "\n",
    "from sklearn.model_selection import train_test_split\n",
    "\n",
    "X_train, X_test, y_train, y_test = train_test_split(X, y, test_size=0.2, random_state=42)\n",
    "\n",
    "from sklearn.preprocessing import StandardScaler\n",
    "\n",
    "scaler = StandardScaler()\n",
    "X_train = scaler.fit_transform(X_train)\n",
    "X_test = scaler.transform(X_test)\n",
    "\n",
    "from sklearn.svm import SVC\n",
    "\n",
    "model = SVC(kernel='linear')\n",
    "model.fit(X_train, y_train)\n",
    "\n",
    "from sklearn.metrics import confusion_matrix\n",
    "\n",
    "y_pred = model.predict(X_test)\n",
    "cm = confusion_matrix(y_test, y_pred)\n",
    "\n",
    "\n",
    "plt.figure(figsize=(6, 5))\n",
    "sns.heatmap(cm, annot=True, fmt='d', cmap='Blues', xticklabels=['Benign', 'Malignant'], yticklabels=['Benign', 'Malignant'])\n",
    "plt.xlabel('Predicted Label')\n",
    "plt.ylabel('True Label')\n",
    "plt.title('Confusion Matrix for SVM Classifier')\n",
    "plt.show()\n"
   ]
  },
  {
   "cell_type": "code",
   "execution_count": null,
   "id": "8d268742-8793-493f-bb0d-09f03fa528ed",
   "metadata": {},
   "outputs": [],
   "source": [
    "#44 Write a Python program to train an SVM Regressor (SVR) and evaluate its performance using Mean Absolute Error (MAE) instead of MSE?\n"
   ]
  },
  {
   "cell_type": "code",
   "execution_count": 58,
   "id": "1d05b5ef-5ba0-4ccd-b885-3f9d2c881d2e",
   "metadata": {},
   "outputs": [
    {
     "name": "stdout",
     "output_type": "stream",
     "text": [
      "Mean Absolute Error (MAE) for SVR: 0.40\n"
     ]
    }
   ],
   "source": [
    "from sklearn.datasets import fetch_california_housing\n",
    "\n",
    "housing = fetch_california_housing()\n",
    "X, y = housing.data, housing.target\n",
    "\n",
    "\n",
    "from sklearn.model_selection import train_test_split\n",
    "\n",
    "X_train, X_test, y_train, y_test = train_test_split(X, y, test_size=0.2, random_state=42)\n",
    "\n",
    "from sklearn.preprocessing import StandardScaler\n",
    "\n",
    "scaler = StandardScaler()\n",
    "X_train = scaler.fit_transform(X_train)\n",
    "X_test = scaler.transform(X_test)\n",
    "\n",
    "\n",
    "from sklearn.svm import SVR\n",
    "\n",
    "model = SVR(kernel='rbf')\n",
    "model.fit(X_train, y_train)\n",
    "\n",
    "from sklearn.metrics import mean_absolute_error\n",
    "\n",
    "y_pred = model.predict(X_test)\n",
    "mae = mean_absolute_error(y_test, y_pred)\n",
    "\n",
    "# Step 6: Print the MAE Score\n",
    "print(f\"Mean Absolute Error (MAE) for SVR: {mae:.2f}\")\n"
   ]
  },
  {
   "cell_type": "code",
   "execution_count": null,
   "id": "26018bd1-1cfa-4b37-bfe3-47f725b0d5f9",
   "metadata": {},
   "outputs": [],
   "source": [
    "#45 Write a Python program to train a Naïve Bayes classifier and evaluate its performance using the ROC-AUC score?\n"
   ]
  },
  {
   "cell_type": "code",
   "execution_count": 56,
   "id": "0a2626aa-c498-4720-b10a-d1dc71a294ac",
   "metadata": {},
   "outputs": [
    {
     "name": "stdout",
     "output_type": "stream",
     "text": [
      "ROC-AUC Score for Naïve Bayes Classifier: 1.00\n"
     ]
    }
   ],
   "source": [
    "\n",
    "from sklearn.datasets import load_breast_cancer\n",
    "\n",
    "cancer = load_breast_cancer()\n",
    "X, y = cancer.data, cancer.target\n",
    "\n",
    "\n",
    "from sklearn.model_selection import train_test_split\n",
    "\n",
    "X_train, X_test, y_train, y_test = train_test_split(X, y, test_size=0.2, random_state=42)\n",
    "\n",
    "\n",
    "from sklearn.preprocessing import StandardScaler\n",
    "\n",
    "scaler = StandardScaler()\n",
    "X_train = scaler.fit_transform(X_train)\n",
    "X_test = scaler.transform(X_test)\n",
    "\n",
    "from sklearn.naive_bayes import GaussianNB\n",
    "\n",
    "model = GaussianNB()\n",
    "model.fit(X_train, y_train)\n",
    "\n",
    "\n",
    "from sklearn.metrics import roc_auc_score\n",
    "\n",
    "y_scores = model.predict_proba(X_test)[:, 1] \n",
    "roc_auc = roc_auc_score(y_test, y_scores)\n",
    "\n",
    "\n",
    "print(f\"ROC-AUC Score for Naïve Bayes Classifier: {roc_auc:.2f}\")\n"
   ]
  },
  {
   "cell_type": "code",
   "execution_count": 52,
   "id": "69a1eb0b-7470-4cd5-8aa9-26fdce982048",
   "metadata": {},
   "outputs": [],
   "source": [
    "#46 Write a Python program to train an SVM Classifier and visualize the Precision-Recall Curve?"
   ]
  },
  {
   "cell_type": "code",
   "execution_count": 54,
   "id": "77b8e9d7-948f-429d-a20e-399ae408ee68",
   "metadata": {},
   "outputs": [
    {
     "data": {
      "image/png": "[encoded data removed]",
      "text/plain": [
       "<Figure size 800x600 with 1 Axes>"
      ]
     },
     "metadata": {},
     "output_type": "display_data"
    }
   ],
   "source": [
    "\n",
    "from sklearn.datasets import load_breast_cancer\n",
    "\n",
    "cancer = load_breast_cancer()\n",
    "X, y = cancer.data, cancer.target\n",
    "\n",
    "\n",
    "from sklearn.model_selection import train_test_split\n",
    "\n",
    "X_train, X_test, y_train, y_test = train_test_split(X, y, test_size=0.2, random_state=42)\n",
    "\n",
    "\n",
    "from sklearn.preprocessing import StandardScaler\n",
    "\n",
    "scaler = StandardScaler()\n",
    "X_train = scaler.fit_transform(X_train)\n",
    "X_test = scaler.transform(X_test)\n",
    "\n",
    "\n",
    "from sklearn.svm import SVC\n",
    "\n",
    "model = SVC(kernel='linear', probability=True)  \n",
    "model.fit(X_train, y_train)\n",
    "\n",
    "\n",
    "from sklearn.metrics import precision_recall_curve\n",
    "\n",
    "y_scores = model.predict_proba(X_test)[:, 1]  # Get probability estimates for the positive class\n",
    "precisions, recalls, _ = precision_recall_curve(y_test, y_scores)\n",
    "\n",
    "plt.figure(figsize=(8, 6))\n",
    "plt.plot(recalls, precisions, marker='.', label='SVM')\n",
    "plt.xlabel('Recall')\n",
    "plt.ylabel('Precision')\n",
    "plt.title('Precision-Recall Curve for SVM Classifier')\n",
    "plt.legend()\n",
    "plt.grid()\n",
    "plt.show()\n"
   ]
  },
  {
   "cell_type": "code",
   "execution_count": null,
   "id": "3d291d7d-1164-4fc7-8d09-95bdb54e5fe8",
   "metadata": {},
   "outputs": [],
   "source": []
  }
 ],
 "metadata": {
  "kernelspec": {
   "display_name": "Python 3 (ipykernel)",
   "language": "python",
   "name": "python3"
  },
  "language_info": {
   "codemirror_mode": {
    "name": "ipython",
    "version": 3
   },
   "file_extension": ".py",
   "mimetype": "text/x-python",
   "name": "python",
   "nbconvert_exporter": "python",
   "pygments_lexer": "ipython3",
   "version": "3.12.7"
  }
 },
 "nbformat": 4,
 "nbformat_minor": 5
}
